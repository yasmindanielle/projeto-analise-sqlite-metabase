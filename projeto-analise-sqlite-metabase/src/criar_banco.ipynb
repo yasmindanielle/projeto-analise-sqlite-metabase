{
 "cells": [
  {
   "cell_type": "code",
   "execution_count": 12,
   "id": "98737678",
   "metadata": {},
   "outputs": [],
   "source": [
    "#Importando bibliotecas\n",
    "import sqlite3\n",
    "import os\n",
    "\n",
    "#Cria a pasta \"dados\"\n",
    "os.makedirs(\"dados\",exist_ok=True)\n",
    "\n",
    "#Caminho em que o banco será salvo\n",
    "caminho_banco = os.path.join(\"dados\",\"vendas.db\")\n",
    "\n",
    "#Conecta o banco nesse caminho\n",
    "conn = sqlite3.connect(caminho_banco)\n",
    "cursor = conn.cursor()"
   ]
  },
  {
   "cell_type": "code",
   "execution_count": 13,
   "id": "f8a07ea5",
   "metadata": {},
   "outputs": [
    {
     "data": {
      "text/plain": [
       "<sqlite3.Cursor at 0x7f0634134340>"
      ]
     },
     "execution_count": 13,
     "metadata": {},
     "output_type": "execute_result"
    }
   ],
   "source": [
    "# Apaga as tabelas se já existirem e cria novas\n",
    "cursor.executescript(\"\"\"\n",
    "DROP TABLE IF EXISTS clientes;\n",
    "DROP TABLE IF EXISTS produtos;\n",
    "DROP TABLE IF EXISTS pedidos;\n",
    "DROP TABLE IF EXISTS itens_pedido;\n",
    "\n",
    "CREATE TABLE clientes (\n",
    "    id INTEGER PRIMARY KEY AUTOINCREMENT,\n",
    "    nome TEXT NOT NULL,\n",
    "    cidade TEXT,\n",
    "    estado TEXT\n",
    ");\n",
    "\n",
    "CREATE TABLE produtos (\n",
    "    id INTEGER PRIMARY KEY AUTOINCREMENT,\n",
    "    nome TEXT NOT NULL,\n",
    "    categoria TEXT,\n",
    "    preco_unitario REAL\n",
    ");\n",
    "\n",
    "CREATE TABLE pedidos (\n",
    "    id INTEGER PRIMARY KEY AUTOINCREMENT,\n",
    "    id_cliente INTEGER,\n",
    "    data_pedido TEXT,\n",
    "    FOREIGN KEY (id_cliente) REFERENCES clientes(id)\n",
    ");\n",
    "\n",
    "CREATE TABLE itens_pedido (\n",
    "    id INTEGER PRIMARY KEY AUTOINCREMENT,\n",
    "    id_pedido INTEGER,\n",
    "    id_produto INTEGER,\n",
    "    quantidade INTEGER,\n",
    "    FOREIGN KEY (id_pedido) REFERENCES pedidos(id),\n",
    "    FOREIGN KEY (id_produto) REFERENCES produtos(id)\n",
    ");\n",
    "\"\"\")"
   ]
  },
  {
   "cell_type": "code",
   "execution_count": 14,
   "id": "6729b970",
   "metadata": {},
   "outputs": [],
   "source": [
    "# Dados de exemplo\n",
    "clientes = [\n",
    "    (\"Ana Souza\", \"São Paulo\", \"SP\"),\n",
    "    (\"Carlos Lima\", \"Rio de Janeiro\", \"RJ\"),\n",
    "    (\"Fernanda Melo\", \"Belo Horizonte\", \"MG\"),\n",
    "    (\"João Pedro\", \"Curitiba\", \"PR\")\n",
    "]\n",
    "\n",
    "produtos = [\n",
    "    (\"Notebook\", \"Eletrônicos\", 3500.00),\n",
    "    (\"Smartphone\", \"Eletrônicos\", 2200.00),\n",
    "    (\"Cadeira Gamer\", \"Móveis\", 899.90),\n",
    "    (\"Mouse sem fio\", \"Acessórios\", 120.00)\n",
    "]\n",
    "\n",
    "pedidos = [\n",
    "    (1, \"2024-04-12\"),\n",
    "    (2, \"2024-04-15\"),\n",
    "    (1, \"2024-05-02\"),\n",
    "    (3, \"2024-05-10\")\n",
    "]\n",
    "\n",
    "itens_pedido = [\n",
    "    (1, 1, 1),  # Pedido 1, Produto 1, Quantidade 1\n",
    "    (1, 2, 2),\n",
    "    (2, 1, 1),\n",
    "    (3, 3, 1),\n",
    "    (4, 4, 3)\n",
    "]"
   ]
  },
  {
   "cell_type": "code",
   "execution_count": 15,
   "id": "9b24e200",
   "metadata": {},
   "outputs": [
    {
     "data": {
      "text/plain": [
       "<sqlite3.Cursor at 0x7f0634134340>"
      ]
     },
     "execution_count": 15,
     "metadata": {},
     "output_type": "execute_result"
    }
   ],
   "source": [
    "# Inserção dos dados\n",
    "cursor.executemany(\"INSERT INTO clientes (nome, cidade, estado) VALUES (?, ?, ?)\", clientes)\n",
    "cursor.executemany(\"INSERT INTO produtos (nome, categoria, preco_unitario) VALUES (?, ?, ?)\", produtos)\n",
    "cursor.executemany(\"INSERT INTO pedidos (id_cliente, data_pedido) VALUES (?, ?)\", pedidos)\n",
    "cursor.executemany(\"INSERT INTO itens_pedido (id_pedido, id_produto, quantidade) VALUES (?, ?, ?)\", itens_pedido)"
   ]
  },
  {
   "cell_type": "code",
   "execution_count": 16,
   "id": "07806dd3",
   "metadata": {},
   "outputs": [],
   "source": [
    "# Salvar e fechar conexão\n",
    "conn.commit()\n",
    "conn.close()"
   ]
  }
 ],
 "metadata": {
  "kernelspec": {
   "display_name": "Python 3 (ipykernel)",
   "language": "python",
   "name": "python3"
  },
  "language_info": {
   "codemirror_mode": {
    "name": "ipython",
    "version": 3
   },
   "file_extension": ".py",
   "mimetype": "text/x-python",
   "name": "python",
   "nbconvert_exporter": "python",
   "pygments_lexer": "ipython3",
   "version": "3.9.7"
  }
 },
 "nbformat": 4,
 "nbformat_minor": 5
}
